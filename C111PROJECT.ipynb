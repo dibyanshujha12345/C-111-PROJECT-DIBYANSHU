{
  "nbformat": 4,
  "nbformat_minor": 0,
  "metadata": {
    "colab": {
      "name": "C111PROJECT.ipynb",
      "provenance": [],
      "collapsed_sections": [],
      "authorship_tag": "ABX9TyNcK6/jZRhzUuFR2Ff81NC1",
      "include_colab_link": true
    },
    "kernelspec": {
      "name": "python3",
      "display_name": "Python 3"
    },
    "language_info": {
      "name": "python"
    }
  },
  "cells": [
    {
      "cell_type": "markdown",
      "metadata": {
        "id": "view-in-github",
        "colab_type": "text"
      },
      "source": [
        "<a href=\"https://colab.research.google.com/github/dibyanshujha12345/C-111-PROJECT-DIBYANSHU/blob/main/C111PROJECT.ipynb\" target=\"_parent\"><img src=\"https://colab.research.google.com/assets/colab-badge.svg\" alt=\"Open In Colab\"/></a>"
      ]
    },
    {
      "cell_type": "code",
      "source": [
        ""
      ],
      "metadata": {
        "id": "9CvwUfg0Ph1U"
      },
      "execution_count": null,
      "outputs": []
    },
    {
      "cell_type": "code",
      "execution_count": null,
      "metadata": {
        "id": "PFJd_rsXOQ9N",
        "colab": {
          "base_uri": "https://localhost:8080/"
        },
        "outputId": "8dd002e7-44fa-4bc6-adc6-3f384991b061"
      },
      "outputs": [
        {
          "output_type": "stream",
          "name": "stdout",
          "text": [
            "nan\n"
          ]
        }
      ],
      "source": [
        "import pandas as pd\n",
        "import random\n",
        "import plotly.express as px\n",
        "import plotly.graph_objects as go\n",
        "import plotly.figure_factory as ff\n",
        "import statistics as st\n",
        "import csv\n",
        "\n",
        "df=pd.read_csv(\"medium_data.csv\")\n",
        "\n",
        "data=df[\"reading_time\"].tolist()\n",
        "\n",
        "mean = st.mean(data)\n",
        "print(mean)"
      ]
    }
  ]
}